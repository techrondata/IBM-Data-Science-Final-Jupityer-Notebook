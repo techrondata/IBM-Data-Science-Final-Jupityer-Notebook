{
 "cells": [
  {
   "cell_type": "markdown",
   "id": "401b53ea-dd67-4132-9008-511dc413f224",
   "metadata": {},
   "source": [
    "# Data Science Tools and Ecosystem"
   ]
  },
  {
   "cell_type": "markdown",
   "id": "ba817ab8-a730-4005-8145-8fe0819255de",
   "metadata": {},
   "source": [
    "In this notebook, data science tools and the ecosystem are summarized."
   ]
  },
  {
   "cell_type": "markdown",
   "id": "92821d8d-5623-4f53-8fb1-99ed36dc339a",
   "metadata": {},
   "source": [
    "__Objectives:__\n",
    "- list popular languages for data science\n",
    "- list popular libraries used by data scientists\n",
    "- list popular open source data science tools\n",
    "- show examples of arithmetic expressions used in Jupyter Notebooks"
   ]
  },
  {
   "cell_type": "markdown",
   "id": "ed19cd4f-7646-481c-9466-096779fd8364",
   "metadata": {},
   "source": [
    "The following is a list of popular languages used by data scientists:\n",
    "1. R\n",
    "2. Python\n",
    "3. SQL"
   ]
  },
  {
   "cell_type": "markdown",
   "id": "3ffc9f25-8e49-4b7e-9ec1-766a6b5f91a5",
   "metadata": {},
   "source": [
    "Some of the commonly used libraries by data scientists are:\n",
    "1. TensorFlow\n",
    "2. NumPy\n",
    "3. SciPy\n",
    "4. Pandas\n",
    "5. Matplotlib"
   ]
  },
  {
   "cell_type": "markdown",
   "id": "481c4ecd-504d-4353-93d1-dd7286e4f6ea",
   "metadata": {},
   "source": [
    "| Data Science Tools |\n",
    "| --- |\n",
    "| Jupyter Notebooks |\n",
    "| R Studio |\n",
    "| Zeppelin Notebooks |"
   ]
  },
  {
   "cell_type": "markdown",
   "id": "9a24957a-61ea-489f-88f8-18af3fd068bc",
   "metadata": {},
   "source": [
    "### Below are a few examples evaluating arithmetic expressions in Python:"
   ]
  },
  {
   "cell_type": "code",
   "execution_count": 7,
   "id": "aebfc850-d079-4de6-b03e-d202be54a967",
   "metadata": {},
   "outputs": [
    {
     "data": {
      "text/plain": [
       "17"
      ]
     },
     "execution_count": 7,
     "metadata": {},
     "output_type": "execute_result"
    }
   ],
   "source": [
    "#This is a simple arithmetic expression to multiply then add integers:\n",
    "(3*4)+5"
   ]
  },
  {
   "cell_type": "code",
   "execution_count": 10,
   "id": "c35b0d40-d90a-45df-bfc3-066bf30cbb14",
   "metadata": {},
   "outputs": [
    {
     "data": {
      "text/plain": [
       "3.3333333333333335"
      ]
     },
     "execution_count": 10,
     "metadata": {},
     "output_type": "execute_result"
    }
   ],
   "source": [
    "#This will convert 200 minutes into hours by dividing by 60:\n",
    "200/60"
   ]
  },
  {
   "cell_type": "markdown",
   "id": "54fdad18-7e2a-4370-8d16-69211d0ead35",
   "metadata": {},
   "source": [
    "## Author\n",
    "Ronald Barbour"
   ]
  }
 ],
 "metadata": {
  "kernelspec": {
   "display_name": "Python",
   "language": "python",
   "name": "conda-env-python-py"
  },
  "language_info": {
   "codemirror_mode": {
    "name": "ipython",
    "version": 3
   },
   "file_extension": ".py",
   "mimetype": "text/x-python",
   "name": "python",
   "nbconvert_exporter": "python",
   "pygments_lexer": "ipython3",
   "version": "3.7.12"
  }
 },
 "nbformat": 4,
 "nbformat_minor": 5
}
